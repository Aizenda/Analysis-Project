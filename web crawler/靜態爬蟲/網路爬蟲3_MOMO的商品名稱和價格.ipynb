{
 "cells": [
  {
   "cell_type": "code",
   "execution_count": 1,
   "id": "211853ab",
   "metadata": {},
   "outputs": [
    {
     "name": "stdout",
     "output_type": "stream",
     "text": [
      "產品:【Acer 宏碁】N4505雙核電腦(XC-840/N4505/8G/256G SSD/W11)\n",
      "價格:9688元\n",
      "產品:【Acer 宏碁】i5 RTX3060電競電腦(N50-650/i5-13400F/16G/1TB+512G/RTX3060-8G/W11)\n",
      "價格:32900元\n",
      "產品:【Acer 宏碁】G6900雙核電腦(Aspire XC-1760/G6900/8G/256G SSD/W11)\n",
      "價格:10900元\n",
      "產品:【Acer 宏碁】i5六核電腦(Aspire TC-1750/i5-12400/8G/512G SSD/W11)\n",
      "價格:15900元\n",
      "產品:【Acer 宏碁】i5 GTX1650電腦(Aspire TC-1750/i5-12400F/8G/512G SSD/GTX1650-4G/W11)\n",
      "價格:19900元\n",
      "產品:【ASUS 華碩】R7迷你電腦(PN50-E1-48UUPKA/R7-4800U/8G/512G/W11)\n",
      "價格:14990元\n",
      "產品:【ASUS 華碩】+8G記憶體組★N6000迷你電腦(PN41-N60Y4ZA/N6000/4G/128G/W11P)\n",
      "價格:8990元\n",
      "產品:【MSI 微星】N200 四核迷你電腦(CUBI N ADL-018BTW/準系統需另行選購)\n",
      "價格:5990元\n",
      "產品:【DELL 戴爾】i5十核電腦(Inspiron 3020T/i5-13400/8G/256G+1TB/W11)\n",
      "價格:17999元\n",
      "產品:【ASUS 華碩】i7八核電腦(H-M900MC/i7-11700/16G/512G SSD/W11)\n",
      "價格:17990元\n",
      "產品:【ASUS 華碩】+8G記憶體組★R7迷你電腦(PN50-E1-48UUPKA/R7-4800U/8G/512G SSD/W11)\n",
      "價格:15490元\n",
      "產品:【MSI 微星】i5 六核電腦(PRO DP130 12-621TW/i5-12400/16G/1TB SSD/W11)\n",
      "價格:16900元\n",
      "產品:【ASUS 華碩】i5 GTX1660Ti六核文書電腦(H-S500TD/i5-12400F/16G/1TB+256G SSD/GTX1660Ti/W11)\n",
      "價格:25990元\n",
      "產品:【Acer 宏碁】RB610迷你電腦(RB610/CM7305/4G/128G UFS/Non-OS)\n",
      "價格:6990元\n",
      "產品:【ASUS 華碩】i9 RTX3060廿四核商用電腦(D900MDR/i9-13900/16G/1T SSD/RTX3060/W11P)\n",
      "價格:63000元\n",
      "產品:【ASUS 華碩】i7十六核電腦(H-S500TE/i7-13700/16G/512G SSD/W11)\n",
      "價格:30990元\n",
      "產品:【Acer 宏碁】i3四核電腦(Aspire TC-1750/i3-12100/8G/512G SSD/W11)\n",
      "價格:13900元\n",
      "產品:【ASUS 華碩】N6000迷你電腦(PN41-N60Y4ZA/N6000/4G/128G/W11P)\n",
      "價格:8990元\n",
      "產品:【ASUS 華碩】i7十二核文書電腦(H-S500TD/i7-12700/16G/512GB SSD/W11)\n",
      "價格:25990元\n",
      "產品:【ASUS 華碩】i5六核電腦(H-S500TD/i5-12400/16G/512G SSD/W11)\n",
      "價格:18990元\n"
     ]
    }
   ],
   "source": [
    "import requests\n",
    "from bs4 import BeautifulSoup\n",
    "url = 'https://m.momoshop.com.tw/search.momo?_advFirst=N&_advCp=N&curPage=1&searchType=1&cateLevel=2&ent=k&searchKeyword=%E9%9B%BB%E8%85%A6&_advThreeHours=N&_isFuzzy=0&_imgSH=fourCardType'\n",
    "HEADERS = {\n",
    "        'User-Agent':'Mozilla/5.0 (Windows NT 6.1; WOW64 ) AppleWebKit/537.36 (KHTML, like Gecko) Chrome/53.0.2785.143 Safari/537.36'\n",
    "        }\n",
    "webpage = requests.get(url, headers=HEADERS)\n",
    "soup = BeautifulSoup(webpage.text, 'html.parser')\n",
    "\n",
    "news = soup.find_all('li',{'class':'goodsItemLi goodsItemLiSeo'})\n",
    "for i in news:\n",
    "    product = i.find('h3',{'class':'prdName'}).text\n",
    "    price = i.find('b',{'class':'price'}).text\n",
    "    print('產品:',product,'\\n','價格:',price,'元',sep='')\n"
   ]
  },
  {
   "cell_type": "code",
   "execution_count": null,
   "id": "19499829",
   "metadata": {},
   "outputs": [],
   "source": []
  }
 ],
 "metadata": {
  "kernelspec": {
   "display_name": "Python 3 (ipykernel)",
   "language": "python",
   "name": "python3"
  },
  "language_info": {
   "codemirror_mode": {
    "name": "ipython",
    "version": 3
   },
   "file_extension": ".py",
   "mimetype": "text/x-python",
   "name": "python",
   "nbconvert_exporter": "python",
   "pygments_lexer": "ipython3",
   "version": "3.11.5"
  }
 },
 "nbformat": 4,
 "nbformat_minor": 5
}
