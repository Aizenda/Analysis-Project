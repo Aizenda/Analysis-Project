{
 "cells": [
  {
   "cell_type": "code",
   "execution_count": null,
   "id": "01be2f5b",
   "metadata": {},
   "outputs": [
    {
     "name": "stdout",
     "output_type": "stream",
     "text": [
      "台積電 : 573\n"
     ]
    }
   ],
   "source": [
    "import requests,time\n",
    "from bs4 import BeautifulSoup\n",
    "def stock(number):\n",
    "    a = 'https://tw.stock.yahoo.com/quote/'\n",
    "    b = str(number)+'.TW'\n",
    "    url = a+b\n",
    "    webpage = requests.get(url)\n",
    "    soup = BeautifulSoup(webpage.text, 'html.parser')\n",
    "    stock = soup.find_all('div',{'class':'D(f) Fx(a) Mb($m-module)'})\n",
    "    for i in stock:\n",
    "        stockname = i.find('h1',{'class':'C($c-link-text)'}).text\n",
    "        stockprice = i.find('span',{'class':'Fz(32px)'}).text\n",
    "        print(stockname,':',stockprice)\n",
    "        return stockname,stockprice\n",
    "for j in range(10):\n",
    "    stock(2330)\n",
    "    time.sleep(30)\n"
   ]
  },
  {
   "cell_type": "code",
   "execution_count": null,
   "id": "7d8c819a",
   "metadata": {},
   "outputs": [],
   "source": []
  }
 ],
 "metadata": {
  "kernelspec": {
   "display_name": "Python 3 (ipykernel)",
   "language": "python",
   "name": "python3"
  },
  "language_info": {
   "codemirror_mode": {
    "name": "ipython",
    "version": 3
   },
   "file_extension": ".py",
   "mimetype": "text/x-python",
   "name": "python",
   "nbconvert_exporter": "python",
   "pygments_lexer": "ipython3",
   "version": "3.11.5"
  }
 },
 "nbformat": 4,
 "nbformat_minor": 5
}
