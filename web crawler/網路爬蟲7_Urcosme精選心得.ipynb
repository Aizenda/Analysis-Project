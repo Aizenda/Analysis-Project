{
 "cells": [
  {
   "cell_type": "code",
   "execution_count": null,
   "id": "d4fb0e03",
   "metadata": {},
   "outputs": [],
   "source": [
    "import requests\n",
    "from bs4 import BeautifulSoup\n",
    "HEADERS = {\n",
    "        'User-Agent':'Mozilla/5.0 (Windows NT 6.1; WOW64 ) AppleWebKit/537.36 (KHTML, like Gecko) Chrome/53.0.2785.143 Safari/537.36'\n",
    "        }\n",
    "http = 'https://www.cosme.net.tw/new-reviews?=page='\n",
    "page = 5\n",
    "for i in range(1,page+1):\n",
    "    url = http + str(i)\n",
    "    webpage = requests.get(url, headers=HEADERS)\n",
    "    soup = BeautifulSoup(webpage.text, 'html.parser')\n",
    "    divs = soup.find_all('div', {'class':'uc-review uc-review-with-product'})\n",
    "    counter = 0\n",
    "    for div in divs:\n",
    "        counter+=1\n",
    "        author = div.find('div', 'author-name').a.text\n",
    "        status = div.find('div', 'author-review-status').text\n",
    "        score = div.find('div', 'review-score').text\n",
    "        content = div.find('div', 'two-line-dot uc-content-link').text\n",
    "        print('編號:',counter)\n",
    "        print('心得:',content)\n",
    "        print('作者:',author)\n",
    "        print('狀態:',status)\n",
    "        print('分數:',score,'\\n')\n",
    "\n"
   ]
  }
 ],
 "metadata": {
  "kernelspec": {
   "display_name": "Python 3 (ipykernel)",
   "language": "python",
   "name": "python3"
  },
  "language_info": {
   "codemirror_mode": {
    "name": "ipython",
    "version": 3
   },
   "file_extension": ".py",
   "mimetype": "text/x-python",
   "name": "python",
   "nbconvert_exporter": "python",
   "pygments_lexer": "ipython3",
   "version": "3.11.5"
  }
 },
 "nbformat": 4,
 "nbformat_minor": 5
}
