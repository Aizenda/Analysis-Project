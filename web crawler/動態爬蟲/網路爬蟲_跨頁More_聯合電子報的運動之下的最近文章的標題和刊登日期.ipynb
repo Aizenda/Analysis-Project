{
 "cells": [
  {
   "cell_type": "code",
   "execution_count": 2,
   "id": "29e22532",
   "metadata": {},
   "outputs": [
    {
     "name": "stdout",
     "output_type": "stream",
     "text": [
      "MLB／塞佛里諾和千賀滉大成為隊友 大都會再搶山本由伸 2023-11-30 09:29\n",
      "穀保家商正視張峻瑋事件  化危機為轉機的最佳示範 2023-11-30 07:00\n",
      "哈登轉型純控衛 快艇磨合完成後即將驗收成效 2023-11-30 07:00\n",
      "五個輪值比不上一個葛雷 紅雀空降王牌是划算投資 2023-11-30 07:00\n",
      "NBA／季中錦標賽8強出爐 搶淨勝分制度惹議 2023-11-30 01:16\n",
      "中職／桃猿教頭換人 曾豪駒下台 2023-11-30 01:10\n",
      "PLG／無畏外界輿論 楊敬敏：還有更重要的事要做 2023-11-29 22:57\n",
      "第六屆LLB挑戰者盃身障兒童公益棒球賽 12月10日洲際棒球場開打 2023-11-29 22:45\n",
      "PLG／支持隊友不評論 林書豪談楊敬敏復出：人都會犯錯 2023-11-29 22:12\n",
      "PLG／用表現回應外界評論 楊敬敏：有些事情必須承受 2023-11-29 22:00\n",
      "印度羽賽／周天成首輪出局 王子維晉16強 2023-11-29 21:25\n",
      "東超／楊敬敏、戴維斯再返球場 林書豪上半場奪17分 2023-11-29 21:21\n",
      "東超／楊敬敏復出秀砍2關鍵三分 國王退菲勁旅收2連勝 2023-11-29 21:00\n",
      "亞錦賽／周宗志與子弟兵再聚首 談邱智呈最不一樣 2023-11-29 19:47\n",
      "中職／曾總卸任與0冠無關 川田喜則談古久保接任原因 2023-11-29 18:57\n",
      "影／楊敬敏重返球場 代表新北國王對戰馬尼拉電器 2023-11-29 18:26\n",
      "PLG／楊敬敏東超復出 國王球團坦言決定不是最完美 2023-11-29 18:26\n",
      "NBA／穆迪末節全場最高分卻沒打滿？柯爾：想讓老將收尾 2023-11-29 18:10\n",
      "亞錦賽／曾仁和準備抗日 自爆沒球數限制 2023-11-29 17:25\n",
      "NBA／季中錦標賽8強出爐 不見上季總冠軍賽球隊 2023-11-29 17:25\n",
      "拳擊／OPBF拳擊賽 亞運銀牌賴主恩獻台灣職業賽首秀 2023-11-29 17:23\n",
      "MLB／小資釀酒人精打細算 擬用破紀錄合約綁小聯盟19歲大物 2023-11-29 17:15\n",
      "亞錦賽／孫易磊先中繼 郭李建夫談終結者人選點名3人 2023-11-29 17:12\n",
      "中職／王躍霖發文感謝味全龍給機會 將盡全力幫助雄鷹 2023-11-29 17:09\n",
      "羽球／Red Bull鬥拍2月3日開打 戴資穎、Lulu組明星隊 2023-11-29 16:55\n",
      "亞錦賽／首次搭擋林靖凱 林承飛：他更像老將 2023-11-29 16:47\n",
      "NBA／勇士被國王逆轉又丟8強門票 K湯：不能因此垂頭喪氣 2023-11-29 16:46\n",
      "中職／雄鷹首次洋將測試會 廣島、巨人退役好手都來了 2023-11-29 16:42\n",
      "網球／外媒曝納達爾將打明年澳網 預計先打布里斯本網賽 2023-11-29 16:41\n",
      "中職／向曾總說辛苦了 林承飛不擔心日式訓練：洪總就是 2023-11-29 16:32\n",
      "NBA／中鋒身材住著控衛靈魂 火箭森根：沒有特意模仿約柯奇 2023-11-29 16:31\n",
      "足球／將戰到39歲！德豪門拜仁續留傳奇門神諾伊爾 2023-11-29 16:13\n",
      "日職／ 機率只有1.7%！59人參加聯合測試會僅1人獲合約 2023-11-29 16:05\n",
      "MLB／球迷也不看好大谷翔平留天使？周邊商品罕見打7折 2023-11-29 15:40\n",
      "NBA／灰狼險勝雷霆坐穩西區龍頭 新狼王愛德華卻重摔傷退 2023-11-29 15:38\n",
      "羽球／戴資穎任反賄選大使 穿透式宣傳邀民眾打擊賄選 2023-11-29 15:10\n"
     ]
    }
   ],
   "source": [
    "from selenium import webdriver\n",
    "from selenium.webdriver.common.by import By\n",
    "import time,requests\n",
    "from bs4 import BeautifulSoup\n",
    "url = 'https://udn.com/news/cate/2/7227'\n",
    "browser = webdriver.Chrome()\n",
    "browser.get(url)\n",
    "page = 5\n",
    "for i in range(page):\n",
    "    more = browser.find_element(By.CLASS_NAME,'btn.btn-ripple.btn-more.btn-more--news')\n",
    "    more.click()\n",
    "    time.sleep(2)\n",
    "soup = BeautifulSoup(browser.page_source, 'html.parser')\n",
    "soup2 = soup.find('section', {'class':'thumb-news more-news thumb-news--big context-box'})\n",
    "divs = soup2.find_all('div', {'class':'story-list__news'})\n",
    "for j in divs:\n",
    "    title = j.find('div', {'class':'story-list__text'}).a.text.strip()\n",
    "    time = j.find('time',\"story-list__time\").text.strip()\n",
    "    print(title,time)\n",
    "browser.quit()\n"
   ]
  },
  {
   "cell_type": "code",
   "execution_count": null,
   "id": "829671fb",
   "metadata": {},
   "outputs": [],
   "source": []
  }
 ],
 "metadata": {
  "kernelspec": {
   "display_name": "Python 3 (ipykernel)",
   "language": "python",
   "name": "python3"
  },
  "language_info": {
   "codemirror_mode": {
    "name": "ipython",
    "version": 3
   },
   "file_extension": ".py",
   "mimetype": "text/x-python",
   "name": "python",
   "nbconvert_exporter": "python",
   "pygments_lexer": "ipython3",
   "version": "3.11.5"
  }
 },
 "nbformat": 4,
 "nbformat_minor": 5
}
