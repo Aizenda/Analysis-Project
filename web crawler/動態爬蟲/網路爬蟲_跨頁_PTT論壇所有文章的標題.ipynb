{
 "cells": [
  {
   "cell_type": "code",
   "execution_count": 2,
   "id": "90660a9f",
   "metadata": {},
   "outputs": [
    {
     "name": "stdout",
     "output_type": "stream",
     "text": [
      "第 1 頁\n",
      "[猜謎] 婚禮遇到收禮金的他第一句話會說什麼？\n",
      "[耍冷] 潮間帶漲潮\n",
      "Fw: [新聞] 日議員甩肉37KG「變天菜鮮肉」　入境台灣\n",
      "[公告] 就可板規\n",
      "[閒聊] 置底閒聊文\n",
      "[公告] 發、推文提醒\n",
      "\n",
      "第 2 頁\n"
     ]
    },
    {
     "ename": "NoSuchWindowException",
     "evalue": "Message: no such window: target window already closed\nfrom unknown error: web view not found\n  (Session info: chrome=119.0.6045.199)\nStacktrace:\n\tGetHandleVerifier [0x00007FF7A8C182B2+55298]\n\t(No symbol) [0x00007FF7A8B85E02]\n\t(No symbol) [0x00007FF7A8A405AB]\n\t(No symbol) [0x00007FF7A8A20038]\n\t(No symbol) [0x00007FF7A8AA6BC7]\n\t(No symbol) [0x00007FF7A8ABA15F]\n\t(No symbol) [0x00007FF7A8AA1E83]\n\t(No symbol) [0x00007FF7A8A7670A]\n\t(No symbol) [0x00007FF7A8A77964]\n\tGetHandleVerifier [0x00007FF7A8F90AAB+3694587]\n\tGetHandleVerifier [0x00007FF7A8FE728E+4048862]\n\tGetHandleVerifier [0x00007FF7A8FDF173+4015811]\n\tGetHandleVerifier [0x00007FF7A8CB47D6+695590]\n\t(No symbol) [0x00007FF7A8B90CE8]\n\t(No symbol) [0x00007FF7A8B8CF34]\n\t(No symbol) [0x00007FF7A8B8D062]\n\t(No symbol) [0x00007FF7A8B7D3A3]\n\tBaseThreadInitThunk [0x00007FF99914257D+29]\n\tRtlUserThreadStart [0x00007FF999C6AA58+40]\n",
     "output_type": "error",
     "traceback": [
      "\u001b[1;31m---------------------------------------------------------------------------\u001b[0m",
      "\u001b[1;31mNoSuchWindowException\u001b[0m                     Traceback (most recent call last)",
      "Cell \u001b[1;32mIn[2], line 9\u001b[0m\n\u001b[0;32m      7\u001b[0m \u001b[38;5;28;01mfor\u001b[39;00m i \u001b[38;5;129;01min\u001b[39;00m \u001b[38;5;28mrange\u001b[39m(page):\n\u001b[0;32m      8\u001b[0m     \u001b[38;5;28mprint\u001b[39m(\u001b[38;5;124m'\u001b[39m\u001b[38;5;124m第\u001b[39m\u001b[38;5;124m'\u001b[39m,i\u001b[38;5;241m+\u001b[39m\u001b[38;5;241m1\u001b[39m,\u001b[38;5;124m'\u001b[39m\u001b[38;5;124m頁\u001b[39m\u001b[38;5;124m'\u001b[39m)\n\u001b[1;32m----> 9\u001b[0m     title \u001b[38;5;241m=\u001b[39m browser\u001b[38;5;241m.\u001b[39mfind_elements(By\u001b[38;5;241m.\u001b[39mCLASS_NAME, \u001b[38;5;124m\"\u001b[39m\u001b[38;5;124mtitle\u001b[39m\u001b[38;5;124m\"\u001b[39m)\n\u001b[0;32m     10\u001b[0m     \u001b[38;5;28;01mfor\u001b[39;00m j \u001b[38;5;129;01min\u001b[39;00m title:\n\u001b[0;32m     11\u001b[0m         \u001b[38;5;28mprint\u001b[39m(j\u001b[38;5;241m.\u001b[39mtext)\n",
      "File \u001b[1;32mE:\\Anaconda2\\Lib\\site-packages\\selenium\\webdriver\\remote\\webdriver.py:771\u001b[0m, in \u001b[0;36mWebDriver.find_elements\u001b[1;34m(self, by, value)\u001b[0m\n\u001b[0;32m    767\u001b[0m     value \u001b[38;5;241m=\u001b[39m \u001b[38;5;124mf\u001b[39m\u001b[38;5;124m'\u001b[39m\u001b[38;5;124m[name=\u001b[39m\u001b[38;5;124m\"\u001b[39m\u001b[38;5;132;01m{\u001b[39;00mvalue\u001b[38;5;132;01m}\u001b[39;00m\u001b[38;5;124m\"\u001b[39m\u001b[38;5;124m]\u001b[39m\u001b[38;5;124m'\u001b[39m\n\u001b[0;32m    769\u001b[0m \u001b[38;5;66;03m# Return empty list if driver returns null\u001b[39;00m\n\u001b[0;32m    770\u001b[0m \u001b[38;5;66;03m# See https://github.com/SeleniumHQ/selenium/issues/4555\u001b[39;00m\n\u001b[1;32m--> 771\u001b[0m \u001b[38;5;28;01mreturn\u001b[39;00m \u001b[38;5;28mself\u001b[39m\u001b[38;5;241m.\u001b[39mexecute(Command\u001b[38;5;241m.\u001b[39mFIND_ELEMENTS, {\u001b[38;5;124m\"\u001b[39m\u001b[38;5;124musing\u001b[39m\u001b[38;5;124m\"\u001b[39m: by, \u001b[38;5;124m\"\u001b[39m\u001b[38;5;124mvalue\u001b[39m\u001b[38;5;124m\"\u001b[39m: value})[\u001b[38;5;124m\"\u001b[39m\u001b[38;5;124mvalue\u001b[39m\u001b[38;5;124m\"\u001b[39m] \u001b[38;5;129;01mor\u001b[39;00m []\n",
      "File \u001b[1;32mE:\\Anaconda2\\Lib\\site-packages\\selenium\\webdriver\\remote\\webdriver.py:347\u001b[0m, in \u001b[0;36mWebDriver.execute\u001b[1;34m(self, driver_command, params)\u001b[0m\n\u001b[0;32m    345\u001b[0m response \u001b[38;5;241m=\u001b[39m \u001b[38;5;28mself\u001b[39m\u001b[38;5;241m.\u001b[39mcommand_executor\u001b[38;5;241m.\u001b[39mexecute(driver_command, params)\n\u001b[0;32m    346\u001b[0m \u001b[38;5;28;01mif\u001b[39;00m response:\n\u001b[1;32m--> 347\u001b[0m     \u001b[38;5;28mself\u001b[39m\u001b[38;5;241m.\u001b[39merror_handler\u001b[38;5;241m.\u001b[39mcheck_response(response)\n\u001b[0;32m    348\u001b[0m     response[\u001b[38;5;124m\"\u001b[39m\u001b[38;5;124mvalue\u001b[39m\u001b[38;5;124m\"\u001b[39m] \u001b[38;5;241m=\u001b[39m \u001b[38;5;28mself\u001b[39m\u001b[38;5;241m.\u001b[39m_unwrap_value(response\u001b[38;5;241m.\u001b[39mget(\u001b[38;5;124m\"\u001b[39m\u001b[38;5;124mvalue\u001b[39m\u001b[38;5;124m\"\u001b[39m, \u001b[38;5;28;01mNone\u001b[39;00m))\n\u001b[0;32m    349\u001b[0m     \u001b[38;5;28;01mreturn\u001b[39;00m response\n",
      "File \u001b[1;32mE:\\Anaconda2\\Lib\\site-packages\\selenium\\webdriver\\remote\\errorhandler.py:229\u001b[0m, in \u001b[0;36mErrorHandler.check_response\u001b[1;34m(self, response)\u001b[0m\n\u001b[0;32m    227\u001b[0m         alert_text \u001b[38;5;241m=\u001b[39m value[\u001b[38;5;124m\"\u001b[39m\u001b[38;5;124malert\u001b[39m\u001b[38;5;124m\"\u001b[39m]\u001b[38;5;241m.\u001b[39mget(\u001b[38;5;124m\"\u001b[39m\u001b[38;5;124mtext\u001b[39m\u001b[38;5;124m\"\u001b[39m)\n\u001b[0;32m    228\u001b[0m     \u001b[38;5;28;01mraise\u001b[39;00m exception_class(message, screen, stacktrace, alert_text)  \u001b[38;5;66;03m# type: ignore[call-arg]  # mypy is not smart enough here\u001b[39;00m\n\u001b[1;32m--> 229\u001b[0m \u001b[38;5;28;01mraise\u001b[39;00m exception_class(message, screen, stacktrace)\n",
      "\u001b[1;31mNoSuchWindowException\u001b[0m: Message: no such window: target window already closed\nfrom unknown error: web view not found\n  (Session info: chrome=119.0.6045.199)\nStacktrace:\n\tGetHandleVerifier [0x00007FF7A8C182B2+55298]\n\t(No symbol) [0x00007FF7A8B85E02]\n\t(No symbol) [0x00007FF7A8A405AB]\n\t(No symbol) [0x00007FF7A8A20038]\n\t(No symbol) [0x00007FF7A8AA6BC7]\n\t(No symbol) [0x00007FF7A8ABA15F]\n\t(No symbol) [0x00007FF7A8AA1E83]\n\t(No symbol) [0x00007FF7A8A7670A]\n\t(No symbol) [0x00007FF7A8A77964]\n\tGetHandleVerifier [0x00007FF7A8F90AAB+3694587]\n\tGetHandleVerifier [0x00007FF7A8FE728E+4048862]\n\tGetHandleVerifier [0x00007FF7A8FDF173+4015811]\n\tGetHandleVerifier [0x00007FF7A8CB47D6+695590]\n\t(No symbol) [0x00007FF7A8B90CE8]\n\t(No symbol) [0x00007FF7A8B8CF34]\n\t(No symbol) [0x00007FF7A8B8D062]\n\t(No symbol) [0x00007FF7A8B7D3A3]\n\tBaseThreadInitThunk [0x00007FF99914257D+29]\n\tRtlUserThreadStart [0x00007FF999C6AA58+40]\n"
     ]
    }
   ],
   "source": [
    "from selenium import webdriver\n",
    "from selenium.webdriver.common.by import By\n",
    "import time\n",
    "browser = webdriver.Chrome()\n",
    "browser.get(\"https://www.ptt.cc/bbs/joke/index.html\")\n",
    "page = 3\n",
    "for i in range(page):\n",
    "    print('第',i+1,'頁')\n",
    "    title = browser.find_elements(By.CLASS_NAME, \"title\")\n",
    "    for j in title:\n",
    "        print(j.text)\n",
    "    next_page_bottom = browser.find_element(By.LINK_TEXT,'‹ 上頁')\n",
    "    next_page_bottom.click()\n",
    "    print()\n",
    "    time.sleep(3)\n"
   ]
  },
  {
   "cell_type": "code",
   "execution_count": null,
   "id": "5a837f8e",
   "metadata": {},
   "outputs": [],
   "source": []
  }
 ],
 "metadata": {
  "kernelspec": {
   "display_name": "Python 3 (ipykernel)",
   "language": "python",
   "name": "python3"
  },
  "language_info": {
   "codemirror_mode": {
    "name": "ipython",
    "version": 3
   },
   "file_extension": ".py",
   "mimetype": "text/x-python",
   "name": "python",
   "nbconvert_exporter": "python",
   "pygments_lexer": "ipython3",
   "version": "3.11.5"
  }
 },
 "nbformat": 4,
 "nbformat_minor": 5
}
